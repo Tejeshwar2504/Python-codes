{
 "cells": [
  {
   "cell_type": "code",
   "execution_count": 6,
   "id": "3c231f2a-ec3a-42a9-ba27-9a7cb4e08a74",
   "metadata": {},
   "outputs": [
    {
     "name": "stdout",
     "output_type": "stream",
     "text": [
      "the largest number is 20\n"
     ]
    }
   ],
   "source": [
    "num1=20\n",
    "num2=13\n",
    "num3=10\n",
    "if(num1>=num2)and(num1>=num3):\n",
    "   largest=num1\n",
    "elif(num2>=num1)and(num2>=num3):\n",
    "   largest=num2\n",
    "else:\n",
    "    largest=num3\n",
    "print(\"the largest number is\",largest)"
   ]
  },
  {
   "cell_type": "code",
   "execution_count": null,
   "id": "d4472515-0a86-4cf3-b303-d98ebef5c58e",
   "metadata": {},
   "outputs": [],
   "source": []
  }
 ],
 "metadata": {
  "kernelspec": {
   "display_name": "Python 3 (ipykernel)",
   "language": "python",
   "name": "python3"
  },
  "language_info": {
   "codemirror_mode": {
    "name": "ipython",
    "version": 3
   },
   "file_extension": ".py",
   "mimetype": "text/x-python",
   "name": "python",
   "nbconvert_exporter": "python",
   "pygments_lexer": "ipython3",
   "version": "3.11.7"
  }
 },
 "nbformat": 4,
 "nbformat_minor": 5
}
